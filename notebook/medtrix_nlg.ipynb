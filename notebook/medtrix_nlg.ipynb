{
 "cells": [
  {
   "cell_type": "markdown",
   "id": "ba94ba6d",
   "metadata": {},
   "source": [
    "# MedTrix"
   ]
  },
  {
   "cell_type": "markdown",
   "id": "5fdd616f",
   "metadata": {},
   "source": [
    "This is a project to generate medical records"
   ]
  },
  {
   "cell_type": "markdown",
   "id": "d6309ad0",
   "metadata": {},
   "source": [
    "## Part Three: Bloom Finetuning and MLops Deploy"
   ]
  },
  {
   "cell_type": "markdown",
   "id": "a8c0b830",
   "metadata": {},
   "source": [
    "## Notebook Settings"
   ]
  },
  {
   "cell_type": "code",
   "execution_count": null,
   "id": "280f506f",
   "metadata": {},
   "outputs": [],
   "source": []
  }
 ],
 "metadata": {
  "kernelspec": {
   "display_name": "Python [conda env:conda_medtrix_env]",
   "language": "python",
   "name": "conda-env-conda_medtrix_env-py"
  },
  "language_info": {
   "codemirror_mode": {
    "name": "ipython",
    "version": 3
   },
   "file_extension": ".py",
   "mimetype": "text/x-python",
   "name": "python",
   "nbconvert_exporter": "python",
   "pygments_lexer": "ipython3",
   "version": "3.10.4"
  },
  "varInspector": {
   "cols": {
    "lenName": 16,
    "lenType": 16,
    "lenVar": 40
   },
   "kernels_config": {
    "python": {
     "delete_cmd_postfix": "",
     "delete_cmd_prefix": "del ",
     "library": "var_list.py",
     "varRefreshCmd": "print(var_dic_list())"
    },
    "r": {
     "delete_cmd_postfix": ") ",
     "delete_cmd_prefix": "rm(",
     "library": "var_list.r",
     "varRefreshCmd": "cat(var_dic_list()) "
    }
   },
   "types_to_exclude": [
    "module",
    "function",
    "builtin_function_or_method",
    "instance",
    "_Feature"
   ],
   "window_display": false
  }
 },
 "nbformat": 4,
 "nbformat_minor": 5
}
